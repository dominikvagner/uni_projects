{
 "cells": [
  {
   "cell_type": "markdown",
   "metadata": {},
   "source": [
    "# Verifying two hypothesis with 95% certainty on data about accidents in the Czech Republic"
   ]
  },
  {
   "cell_type": "code",
   "execution_count": 3,
   "metadata": {},
   "outputs": [],
   "source": [
    "import pandas as pd\n",
    "import numpy as np\n",
    "import scipy.stats as stats"
   ]
  },
  {
   "cell_type": "code",
   "execution_count": 4,
   "metadata": {},
   "outputs": [],
   "source": [
    "df = pd.read_pickle(\"accidents.pkl.gz\")"
   ]
  },
  {
   "cell_type": "markdown",
   "metadata": {},
   "source": [
    "## Hypothesis 1.\n",
    "Accidents on first-class and third-class roads have the same chance of causing a death. (𝜒2, chi-square test)\n",
    "\n",
    "**Null Hypothesis - H0**: Death rate is same on the first-class roads as on the third-class roads. \\\n",
    "**Alternative Hypothesis - H1**: Death rate is different on the first-class roads as on the third-class roads."
   ]
  },
  {
   "cell_type": "code",
   "execution_count": 5,
   "metadata": {},
   "outputs": [
    {
     "name": "stdout",
     "output_type": "stream",
     "text": [
      "first-class  False   True\n",
      "caused                   \n",
      "False        73352  78618\n",
      "True           448    911\n"
     ]
    },
    {
     "data": {
      "text/plain": [
       "'P-value: 3.5395243450138555e-29'"
      ]
     },
     "execution_count": 5,
     "metadata": {},
     "output_type": "execute_result"
    }
   ],
   "source": [
    "dfl = df.copy()\n",
    "dfl = dfl[[\"p36\", \"p13a\"]]\n",
    "dfl = dfl[dfl[\"p36\"].isin([1, 3])]\n",
    "dfl[\"caused\"] = np.where(dfl[\"p13a\"] > 0, np.bool_(True), np.bool_(False))\n",
    "dfl[\"first-class\"] = np.where(dfl[\"p36\"] == 1, np.bool_(True), np.bool_(False))\n",
    "\n",
    "ct = pd.crosstab(dfl[\"caused\"], dfl[\"first-class\"])\n",
    "print(ct)\n",
    "f\"P-value: {stats.chi2_contingency(ct)[1]}\""
   ]
  },
  {
   "cell_type": "markdown",
   "metadata": {},
   "source": [
    "Our `P-value` is way smaller than our treshold of acceptance so we can **reject the null hypothesis (H0)** and  declare that **there is** a statistically significant correlation between deaths and road class (first or third)."
   ]
  },
  {
   "attachments": {},
   "cell_type": "markdown",
   "metadata": {},
   "source": [
    "## Hypothesis 2.\n",
    "In accidents of Škoda vehicles the cost of damage is lower than in accidents of Audi vehicles. (independent t-test, chosen for this hypothesis, because we are comparing two independent groups on the same continuous dependable variable)\n",
    "\n",
    "**Null Hypothesis - H0**: μ1 = μ2 (the cost is the same) \\\n",
    "**Alternative Hypothesis - H1 (left-tailed)**: μ1 < μ2 (the cost is lower with Škoda vehicles)."
   ]
  },
  {
   "cell_type": "code",
   "execution_count": 6,
   "metadata": {},
   "outputs": [
    {
     "data": {
      "text/plain": [
       "'P-value: 4.622063681663005e-121'"
      ]
     },
     "execution_count": 6,
     "metadata": {},
     "output_type": "execute_result"
    }
   ],
   "source": [
    "dfl = df.copy()\n",
    "dfl = dfl[[\"p45a\", \"p14\"]].rename(columns={\"p45a\": \"brand\", \"p14\": \"cost of damage\"})\n",
    "dfl = dfl[dfl[\"brand\"].isin([2, 39])]\n",
    "dfl[\"brand\"] = np.where(dfl[\"brand\"] == 2, \"Audi\", \"Skoda\")\n",
    "\n",
    "group1 = dfl[dfl[\"brand\"] == \"Skoda\"]\n",
    "group2 = dfl[dfl[\"brand\"] == \"Audi\"]\n",
    "\n",
    "p_val = stats.ttest_ind(group1[\"cost of damage\"], group2[\"cost of damage\"], alternative=\"less\")\n",
    "f\"P-value: {p_val[1]}\""
   ]
  },
  {
   "cell_type": "markdown",
   "metadata": {},
   "source": [
    "Our `P-value` is way smaller than our treshold of acceptance so we can **reject the null hypothesis (H0)** and **accept** our left-tailed alternative hypothesis, which signals that the cost of damages should be lower with Škoda vehicles."
   ]
  }
 ],
 "metadata": {
  "kernelspec": {
   "display_name": "Python 3.10.6 ('izv')",
   "language": "python",
   "name": "python3"
  },
  "language_info": {
   "codemirror_mode": {
    "name": "ipython",
    "version": 3
   },
   "file_extension": ".py",
   "mimetype": "text/x-python",
   "name": "python",
   "nbconvert_exporter": "python",
   "pygments_lexer": "ipython3",
   "version": "3.10.6 (main, Oct 24 2022, 11:04:07) [Clang 12.0.0 ]"
  },
  "orig_nbformat": 4,
  "vscode": {
   "interpreter": {
    "hash": "ec1c4e67feada5fb9538063b9d932fd383debc29cde1bc20c657154cde1615ab"
   }
  }
 },
 "nbformat": 4,
 "nbformat_minor": 2
}
